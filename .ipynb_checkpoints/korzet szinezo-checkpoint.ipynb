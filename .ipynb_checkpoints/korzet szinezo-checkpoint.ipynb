{
 "cells": [
  {
   "cell_type": "code",
   "execution_count": 6,
   "id": "dbf2712d-2aad-461d-8f46-3795304f89fb",
   "metadata": {},
   "outputs": [
    {
     "name": "stdout",
     "output_type": "stream",
     "text": [
      "Kész! A színezett SVG mentve: valasztokeruletek_szinezve.svg\n"
     ]
    }
   ],
   "source": [
    "import xml.etree.ElementTree as ET\n",
    "import random\n",
    "\n",
    "# === Beállítások ===\n",
    "input_file = \"magyarorszag_korzetek_azonositoval.svg\"\n",
    "output_file = \"valasztokeruletek_szinezve.svg\"\n",
    "\n",
    "# === SVG fájl beolvasása ===\n",
    "tree = ET.parse(input_file)\n",
    "root = tree.getroot()\n",
    "\n",
    "# === SVG névtér kezelése ===\n",
    "ns = {\"svg\": \"http://www.w3.org/2000/svg\"}\n",
    "ET.register_namespace(\"\", ns[\"svg\"])  # a mentéshez\n",
    "\n",
    "# === Véletlen szín generátor ===\n",
    "def random_color():\n",
    "    return \"#{:06x}\".format(random.randint(0x111111, 0xEEEEEE))\n",
    "\n",
    "# === Körzetek kiválasztása és színek hozzárendelése ===\n",
    "style_lines = []\n",
    "for path in root.findall(\".//svg:path\", ns):\n",
    "    path_id = path.attrib.get(\"id\", \"\")\n",
    "    if path_id.startswith(\"korzet-\"):\n",
    "        color = random_color()\n",
    "        style_lines.append(\n",
    "            f\"#{path_id} {{ fill: {color} !important; stroke: white !important; stroke-width: 1 !important; }}\"\n",
    "        )\n",
    "\n",
    "# === <style> blokk létrehozása és beszúrása ===\n",
    "style_content = \"\\n\".join(style_lines)\n",
    "style_element = ET.Element(\"style\", {\"type\": \"text/css\"})\n",
    "style_element.text = style_content\n",
    "\n",
    "# A <style> blokkot a <svg> gyökérelem elejére illesztjük\n",
    "root.insert(0, style_element)\n",
    "\n",
    "# === SVG mentése új fájlba ===\n",
    "tree.write(output_file, encoding=\"utf-8\", xml_declaration=True)\n",
    "\n",
    "print(f\"Kész! A színezett SVG mentve: {output_file}\")\n"
   ]
  },
  {
   "cell_type": "code",
   "execution_count": null,
   "id": "509667df-439a-49f2-804c-0d1eb88cc6e3",
   "metadata": {},
   "outputs": [],
   "source": []
  }
 ],
 "metadata": {
  "kernelspec": {
   "display_name": "Python 3 (ipykernel)",
   "language": "python",
   "name": "python3"
  },
  "language_info": {
   "codemirror_mode": {
    "name": "ipython",
    "version": 3
   },
   "file_extension": ".py",
   "mimetype": "text/x-python",
   "name": "python",
   "nbconvert_exporter": "python",
   "pygments_lexer": "ipython3",
   "version": "3.13.1"
  }
 },
 "nbformat": 4,
 "nbformat_minor": 5
}
